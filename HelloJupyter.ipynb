{
 "cells": [
  {
   "cell_type": "markdown",
   "id": "80fe14f6",
   "metadata": {},
   "source": [
    "This is a demo of a jupyter notebook. It has _this_ markdown block and one simple `code` block following it."
   ]
  },
  {
   "cell_type": "code",
   "execution_count": 1,
   "id": "23a5400a",
   "metadata": {},
   "outputs": [
    {
     "name": "stdout",
     "output_type": "stream",
     "text": [
      "Hello Jupyter World!\n"
     ]
    }
   ],
   "source": [
    "print(\"Hello Jupyter World!\")"
   ]
  }
 ],
 "metadata": {
  "kernelspec": {
   "display_name": "Python 3",
   "language": "python",
   "name": "python3"
  },
  "language_info": {
   "codemirror_mode": {
    "name": "ipython",
    "version": 3
   },
   "file_extension": ".py",
   "mimetype": "text/x-python",
   "name": "python",
   "nbconvert_exporter": "python",
   "pygments_lexer": "ipython3",
   "version": "3.12.7"
  }
 },
 "nbformat": 4,
 "nbformat_minor": 5
}
